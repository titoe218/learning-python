{
 "cells": [
  {
   "cell_type": "code",
   "execution_count": 21,
   "metadata": {},
   "outputs": [],
   "source": [
    "import numpy as np\n",
    "import pandas as pd\n",
    "import time\n",
    "from datetime import datetime, timedelta"
   ]
  },
  {
   "cell_type": "code",
   "execution_count": 5,
   "metadata": {},
   "outputs": [],
   "source": [
    "with open('../data/BusData.txt', 'r') as f:\n",
    "    text = f.readlines()\n",
    "    \n",
    "l = []\n",
    "for item in text:\n",
    "    if item.startswith('H.') or item.startswith('U.'):\n",
    "        l.append(item.strip('\\n').split())"
   ]
  },
  {
   "cell_type": "code",
   "execution_count": 6,
   "metadata": {},
   "outputs": [
    {
     "output_type": "execute_result",
     "data": {
      "text/plain": [
       "  From Week_day Dept_time Time_take Arr_time\n",
       "0   U.      Mon     12h05     13m55     None\n",
       "1   H.      Tue     08h36     14m19     None\n",
       "2   U.      Tue     15h05     14m14     None\n",
       "3   H.      Wed     06h41     14m48     None\n",
       "4   U.      Wed     10h12     13m04     None"
      ],
      "text/html": "<div>\n<style scoped>\n    .dataframe tbody tr th:only-of-type {\n        vertical-align: middle;\n    }\n\n    .dataframe tbody tr th {\n        vertical-align: top;\n    }\n\n    .dataframe thead th {\n        text-align: right;\n    }\n</style>\n<table border=\"1\" class=\"dataframe\">\n  <thead>\n    <tr style=\"text-align: right;\">\n      <th></th>\n      <th>From</th>\n      <th>Week_day</th>\n      <th>Dept_time</th>\n      <th>Time_take</th>\n      <th>Arr_time</th>\n    </tr>\n  </thead>\n  <tbody>\n    <tr>\n      <th>0</th>\n      <td>U.</td>\n      <td>Mon</td>\n      <td>12h05</td>\n      <td>13m55</td>\n      <td>None</td>\n    </tr>\n    <tr>\n      <th>1</th>\n      <td>H.</td>\n      <td>Tue</td>\n      <td>08h36</td>\n      <td>14m19</td>\n      <td>None</td>\n    </tr>\n    <tr>\n      <th>2</th>\n      <td>U.</td>\n      <td>Tue</td>\n      <td>15h05</td>\n      <td>14m14</td>\n      <td>None</td>\n    </tr>\n    <tr>\n      <th>3</th>\n      <td>H.</td>\n      <td>Wed</td>\n      <td>06h41</td>\n      <td>14m48</td>\n      <td>None</td>\n    </tr>\n    <tr>\n      <th>4</th>\n      <td>U.</td>\n      <td>Wed</td>\n      <td>10h12</td>\n      <td>13m04</td>\n      <td>None</td>\n    </tr>\n  </tbody>\n</table>\n</div>"
     },
     "metadata": {},
     "execution_count": 6
    }
   ],
   "source": [
    "col = ['From', 'Week_day', 'Dept_time', 'Time_take', 'Arr_time']\n",
    "df = pd.DataFrame(l, columns=col)\n",
    "df.head()"
   ]
  },
  {
   "cell_type": "code",
   "execution_count": 7,
   "metadata": {},
   "outputs": [
    {
     "output_type": "stream",
     "name": "stdout",
     "text": [
      "<class 'pandas.core.frame.DataFrame'>\nRangeIndex: 404 entries, 0 to 403\nData columns (total 5 columns):\n #   Column     Non-Null Count  Dtype \n---  ------     --------------  ----- \n 0   From       404 non-null    object\n 1   Week_day   404 non-null    object\n 2   Dept_time  404 non-null    object\n 3   Time_take  365 non-null    object\n 4   Arr_time   303 non-null    object\ndtypes: object(5)\nmemory usage: 15.9+ KB\n"
     ]
    }
   ],
   "source": [
    "df.info()"
   ]
  },
  {
   "cell_type": "code",
   "execution_count": 8,
   "metadata": {},
   "outputs": [
    {
     "output_type": "execute_result",
     "data": {
      "text/plain": [
       "From           0\n",
       "Week_day       0\n",
       "Dept_time      0\n",
       "Time_take     39\n",
       "Arr_time     101\n",
       "dtype: int64"
      ]
     },
     "metadata": {},
     "execution_count": 8
    }
   ],
   "source": [
    "df.isnull().sum()"
   ]
  },
  {
   "cell_type": "code",
   "execution_count": 9,
   "metadata": {},
   "outputs": [],
   "source": [
    "df.fillna('.', inplace=True)"
   ]
  },
  {
   "cell_type": "code",
   "execution_count": 10,
   "metadata": {},
   "outputs": [
    {
     "output_type": "execute_result",
     "data": {
      "text/plain": [
       "array(['Mon', 'Tue', 'Wed', 'Thu', 'Fri', 'Sun', 'Sat', 'Thu.', 'Fri.',\n",
       "       'Mon.', 'Tue.', 'Wed.', 'Sun.', 'Sat.'], dtype=object)"
      ]
     },
     "metadata": {},
     "execution_count": 10
    }
   ],
   "source": [
    "df.Week_day.unique()"
   ]
  },
  {
   "cell_type": "code",
   "execution_count": 11,
   "metadata": {},
   "outputs": [],
   "source": [
    "for i in col:\n",
    "    df[i] = df[i].apply(lambda x: x.strip('. '))"
   ]
  },
  {
   "cell_type": "code",
   "execution_count": 12,
   "metadata": {},
   "outputs": [
    {
     "output_type": "execute_result",
     "data": {
      "text/plain": [
       "array(['Mon', 'Tue', 'Wed', 'Thu', 'Fri', 'Sun', 'Sat'], dtype=object)"
      ]
     },
     "metadata": {},
     "execution_count": 12
    }
   ],
   "source": [
    "df.Week_day.unique()"
   ]
  },
  {
   "cell_type": "code",
   "execution_count": 13,
   "metadata": {},
   "outputs": [
    {
     "output_type": "execute_result",
     "data": {
      "text/plain": [
       "    From Week_day Dept_time Time_take Arr_time\n",
       "0      U      Mon     12h05     13m55         \n",
       "1      H      Tue     08h36     14m19         \n",
       "2      U      Tue     15h05     14m14         \n",
       "3      H      Wed     06h41     14m48         \n",
       "4      U      Wed     10h12     13m04         \n",
       "..   ...      ...       ...       ...      ...\n",
       "399    H      Mon     09h48                   \n",
       "400    H      Tue     12h26                   \n",
       "401    H      Thu     06h40                   \n",
       "402    H      Fri     09h30                   \n",
       "403    U      Fri     12h06                   \n",
       "\n",
       "[404 rows x 5 columns]"
      ],
      "text/html": "<div>\n<style scoped>\n    .dataframe tbody tr th:only-of-type {\n        vertical-align: middle;\n    }\n\n    .dataframe tbody tr th {\n        vertical-align: top;\n    }\n\n    .dataframe thead th {\n        text-align: right;\n    }\n</style>\n<table border=\"1\" class=\"dataframe\">\n  <thead>\n    <tr style=\"text-align: right;\">\n      <th></th>\n      <th>From</th>\n      <th>Week_day</th>\n      <th>Dept_time</th>\n      <th>Time_take</th>\n      <th>Arr_time</th>\n    </tr>\n  </thead>\n  <tbody>\n    <tr>\n      <th>0</th>\n      <td>U</td>\n      <td>Mon</td>\n      <td>12h05</td>\n      <td>13m55</td>\n      <td></td>\n    </tr>\n    <tr>\n      <th>1</th>\n      <td>H</td>\n      <td>Tue</td>\n      <td>08h36</td>\n      <td>14m19</td>\n      <td></td>\n    </tr>\n    <tr>\n      <th>2</th>\n      <td>U</td>\n      <td>Tue</td>\n      <td>15h05</td>\n      <td>14m14</td>\n      <td></td>\n    </tr>\n    <tr>\n      <th>3</th>\n      <td>H</td>\n      <td>Wed</td>\n      <td>06h41</td>\n      <td>14m48</td>\n      <td></td>\n    </tr>\n    <tr>\n      <th>4</th>\n      <td>U</td>\n      <td>Wed</td>\n      <td>10h12</td>\n      <td>13m04</td>\n      <td></td>\n    </tr>\n    <tr>\n      <th>...</th>\n      <td>...</td>\n      <td>...</td>\n      <td>...</td>\n      <td>...</td>\n      <td>...</td>\n    </tr>\n    <tr>\n      <th>399</th>\n      <td>H</td>\n      <td>Mon</td>\n      <td>09h48</td>\n      <td></td>\n      <td></td>\n    </tr>\n    <tr>\n      <th>400</th>\n      <td>H</td>\n      <td>Tue</td>\n      <td>12h26</td>\n      <td></td>\n      <td></td>\n    </tr>\n    <tr>\n      <th>401</th>\n      <td>H</td>\n      <td>Thu</td>\n      <td>06h40</td>\n      <td></td>\n      <td></td>\n    </tr>\n    <tr>\n      <th>402</th>\n      <td>H</td>\n      <td>Fri</td>\n      <td>09h30</td>\n      <td></td>\n      <td></td>\n    </tr>\n    <tr>\n      <th>403</th>\n      <td>U</td>\n      <td>Fri</td>\n      <td>12h06</td>\n      <td></td>\n      <td></td>\n    </tr>\n  </tbody>\n</table>\n<p>404 rows × 5 columns</p>\n</div>"
     },
     "metadata": {},
     "execution_count": 13
    }
   ],
   "source": [
    "df"
   ]
  },
  {
   "cell_type": "code",
   "execution_count": 14,
   "metadata": {},
   "outputs": [
    {
     "output_type": "execute_result",
     "data": {
      "text/plain": [
       "    From Week_day    Dept_time Time_take Arr_time\n",
       "134    H      Mon  06h42.15m55                   \n",
       "276    U      Thu        16m33     17m32         "
      ],
      "text/html": "<div>\n<style scoped>\n    .dataframe tbody tr th:only-of-type {\n        vertical-align: middle;\n    }\n\n    .dataframe tbody tr th {\n        vertical-align: top;\n    }\n\n    .dataframe thead th {\n        text-align: right;\n    }\n</style>\n<table border=\"1\" class=\"dataframe\">\n  <thead>\n    <tr style=\"text-align: right;\">\n      <th></th>\n      <th>From</th>\n      <th>Week_day</th>\n      <th>Dept_time</th>\n      <th>Time_take</th>\n      <th>Arr_time</th>\n    </tr>\n  </thead>\n  <tbody>\n    <tr>\n      <th>134</th>\n      <td>H</td>\n      <td>Mon</td>\n      <td>06h42.15m55</td>\n      <td></td>\n      <td></td>\n    </tr>\n    <tr>\n      <th>276</th>\n      <td>U</td>\n      <td>Thu</td>\n      <td>16m33</td>\n      <td>17m32</td>\n      <td></td>\n    </tr>\n  </tbody>\n</table>\n</div>"
     },
     "metadata": {},
     "execution_count": 14
    }
   ],
   "source": [
    "df[df.Dept_time.str.contains('m')]"
   ]
  },
  {
   "cell_type": "code",
   "execution_count": 16,
   "metadata": {},
   "outputs": [
    {
     "output_type": "execute_result",
     "data": {
      "text/plain": [
       "    From Week_day Dept_time Time_take Arr_time\n",
       "134    H      Mon     06h42     15m55         \n",
       "276    U      Thu     16h33     17m32         "
      ],
      "text/html": "<div>\n<style scoped>\n    .dataframe tbody tr th:only-of-type {\n        vertical-align: middle;\n    }\n\n    .dataframe tbody tr th {\n        vertical-align: top;\n    }\n\n    .dataframe thead th {\n        text-align: right;\n    }\n</style>\n<table border=\"1\" class=\"dataframe\">\n  <thead>\n    <tr style=\"text-align: right;\">\n      <th></th>\n      <th>From</th>\n      <th>Week_day</th>\n      <th>Dept_time</th>\n      <th>Time_take</th>\n      <th>Arr_time</th>\n    </tr>\n  </thead>\n  <tbody>\n    <tr>\n      <th>134</th>\n      <td>H</td>\n      <td>Mon</td>\n      <td>06h42</td>\n      <td>15m55</td>\n      <td></td>\n    </tr>\n    <tr>\n      <th>276</th>\n      <td>U</td>\n      <td>Thu</td>\n      <td>16h33</td>\n      <td>17m32</td>\n      <td></td>\n    </tr>\n  </tbody>\n</table>\n</div>"
     },
     "metadata": {},
     "execution_count": 16
    }
   ],
   "source": [
    "df.iloc[134].Time_take = '15m55'\n",
    "df.iloc[134].Dept_time = '06h42'\n",
    "df.iloc[276].Dept_time = '16h33'\n",
    "df.iloc[[134, 276]]"
   ]
  },
  {
   "cell_type": "code",
   "execution_count": 18,
   "metadata": {},
   "outputs": [
    {
     "output_type": "execute_result",
     "data": {
      "text/plain": [
       "  From Week_day Dept_time Time_take Arr_time\n",
       "0    U      Mon     12h05     13m55         \n",
       "1    H      Tue     08h36     14m19         \n",
       "2    U      Tue     15h05     14m14         \n",
       "3    H      Wed     06h41     14m48         \n",
       "4    U      Wed     10h12     13m04         "
      ],
      "text/html": "<div>\n<style scoped>\n    .dataframe tbody tr th:only-of-type {\n        vertical-align: middle;\n    }\n\n    .dataframe tbody tr th {\n        vertical-align: top;\n    }\n\n    .dataframe thead th {\n        text-align: right;\n    }\n</style>\n<table border=\"1\" class=\"dataframe\">\n  <thead>\n    <tr style=\"text-align: right;\">\n      <th></th>\n      <th>From</th>\n      <th>Week_day</th>\n      <th>Dept_time</th>\n      <th>Time_take</th>\n      <th>Arr_time</th>\n    </tr>\n  </thead>\n  <tbody>\n    <tr>\n      <th>0</th>\n      <td>U</td>\n      <td>Mon</td>\n      <td>12h05</td>\n      <td>13m55</td>\n      <td></td>\n    </tr>\n    <tr>\n      <th>1</th>\n      <td>H</td>\n      <td>Tue</td>\n      <td>08h36</td>\n      <td>14m19</td>\n      <td></td>\n    </tr>\n    <tr>\n      <th>2</th>\n      <td>U</td>\n      <td>Tue</td>\n      <td>15h05</td>\n      <td>14m14</td>\n      <td></td>\n    </tr>\n    <tr>\n      <th>3</th>\n      <td>H</td>\n      <td>Wed</td>\n      <td>06h41</td>\n      <td>14m48</td>\n      <td></td>\n    </tr>\n    <tr>\n      <th>4</th>\n      <td>U</td>\n      <td>Wed</td>\n      <td>10h12</td>\n      <td>13m04</td>\n      <td></td>\n    </tr>\n  </tbody>\n</table>\n</div>"
     },
     "metadata": {},
     "execution_count": 18
    }
   ],
   "source": [
    "df.head()"
   ]
  },
  {
   "cell_type": "code",
   "execution_count": 22,
   "metadata": {},
   "outputs": [],
   "source": [
    "# chuyển định dạng str cột dept_time & arr_time về date time (tạo cột mới hoặc sửa trực tiếp trên cột cũ)\n",
    "def time_convert(x):\n",
    "    if x != '':\n",
    "        return datetime.strptime(x, '%Hh%M')\n",
    "df['Dept'] = df.Dept_time.apply(time_convert)"
   ]
  },
  {
   "cell_type": "code",
   "execution_count": 23,
   "metadata": {},
   "outputs": [],
   "source": [
    "df['Arr'] = df.Arr_time.apply(time_convert)"
   ]
  },
  {
   "cell_type": "code",
   "execution_count": 24,
   "metadata": {},
   "outputs": [],
   "source": [
    "def time_delta(x):\n",
    "    if x != '':\n",
    "        return timedelta(seconds=60*int(x[:2]) + int(x[-2:]))\n",
    "df['Time_gap'] = df.Time_take.apply(time_delta)"
   ]
  },
  {
   "cell_type": "code",
   "execution_count": 25,
   "metadata": {},
   "outputs": [
    {
     "output_type": "execute_result",
     "data": {
      "text/plain": [
       "  From Week_day Dept_time Time_take Arr_time                Dept Arr  \\\n",
       "0    U      Mon     12h05     13m55          1900-01-01 12:05:00 NaT   \n",
       "1    H      Tue     08h36     14m19          1900-01-01 08:36:00 NaT   \n",
       "2    U      Tue     15h05     14m14          1900-01-01 15:05:00 NaT   \n",
       "3    H      Wed     06h41     14m48          1900-01-01 06:41:00 NaT   \n",
       "4    U      Wed     10h12     13m04          1900-01-01 10:12:00 NaT   \n",
       "\n",
       "         Time_gap  \n",
       "0 0 days 00:13:55  \n",
       "1 0 days 00:14:19  \n",
       "2 0 days 00:14:14  \n",
       "3 0 days 00:14:48  \n",
       "4 0 days 00:13:04  "
      ],
      "text/html": "<div>\n<style scoped>\n    .dataframe tbody tr th:only-of-type {\n        vertical-align: middle;\n    }\n\n    .dataframe tbody tr th {\n        vertical-align: top;\n    }\n\n    .dataframe thead th {\n        text-align: right;\n    }\n</style>\n<table border=\"1\" class=\"dataframe\">\n  <thead>\n    <tr style=\"text-align: right;\">\n      <th></th>\n      <th>From</th>\n      <th>Week_day</th>\n      <th>Dept_time</th>\n      <th>Time_take</th>\n      <th>Arr_time</th>\n      <th>Dept</th>\n      <th>Arr</th>\n      <th>Time_gap</th>\n    </tr>\n  </thead>\n  <tbody>\n    <tr>\n      <th>0</th>\n      <td>U</td>\n      <td>Mon</td>\n      <td>12h05</td>\n      <td>13m55</td>\n      <td></td>\n      <td>1900-01-01 12:05:00</td>\n      <td>NaT</td>\n      <td>0 days 00:13:55</td>\n    </tr>\n    <tr>\n      <th>1</th>\n      <td>H</td>\n      <td>Tue</td>\n      <td>08h36</td>\n      <td>14m19</td>\n      <td></td>\n      <td>1900-01-01 08:36:00</td>\n      <td>NaT</td>\n      <td>0 days 00:14:19</td>\n    </tr>\n    <tr>\n      <th>2</th>\n      <td>U</td>\n      <td>Tue</td>\n      <td>15h05</td>\n      <td>14m14</td>\n      <td></td>\n      <td>1900-01-01 15:05:00</td>\n      <td>NaT</td>\n      <td>0 days 00:14:14</td>\n    </tr>\n    <tr>\n      <th>3</th>\n      <td>H</td>\n      <td>Wed</td>\n      <td>06h41</td>\n      <td>14m48</td>\n      <td></td>\n      <td>1900-01-01 06:41:00</td>\n      <td>NaT</td>\n      <td>0 days 00:14:48</td>\n    </tr>\n    <tr>\n      <th>4</th>\n      <td>U</td>\n      <td>Wed</td>\n      <td>10h12</td>\n      <td>13m04</td>\n      <td></td>\n      <td>1900-01-01 10:12:00</td>\n      <td>NaT</td>\n      <td>0 days 00:13:04</td>\n    </tr>\n  </tbody>\n</table>\n</div>"
     },
     "metadata": {},
     "execution_count": 25
    }
   ],
   "source": [
    "df.head()"
   ]
  },
  {
   "cell_type": "code",
   "execution_count": 26,
   "metadata": {},
   "outputs": [
    {
     "output_type": "execute_result",
     "data": {
      "text/plain": [
       "Timedelta('0 days 00:14:41.989795918')"
      ]
     },
     "metadata": {},
     "execution_count": 26
    }
   ],
   "source": [
    "# thời gian di chuyển trung bình (chưa fill n/a)\n",
    "df.Time_gap[df.Time_gap.notnull()].mean()"
   ]
  },
  {
   "cell_type": "code",
   "execution_count": 27,
   "metadata": {},
   "outputs": [
    {
     "output_type": "stream",
     "name": "stderr",
     "text": [
      "<ipython-input-27-0b920c61d384>:3: SettingWithCopyWarning: \nA value is trying to be set on a copy of a slice from a DataFrame.\nTry using .loc[row_indexer,col_indexer] = value instead\n\nSee the caveats in the documentation: https://pandas.pydata.org/pandas-docs/stable/user_guide/indexing.html#returning-a-view-versus-a-copy\n  df_dep_arr['Gap'] = df_dep_arr.Arr - df_dep_arr.Dept\n<ipython-input-27-0b920c61d384>:4: SettingWithCopyWarning: \nA value is trying to be set on a copy of a slice from a DataFrame\n\nSee the caveats in the documentation: https://pandas.pydata.org/pandas-docs/stable/user_guide/indexing.html#returning-a-view-versus-a-copy\n  df.Time_gap[(df.Dept.notnull()) & (df.Arr.notnull())] = df_dep_arr.Gap\n"
     ]
    }
   ],
   "source": [
    "# fill n/a thời gian di chuyển = dept - arr\n",
    "df_dep_arr = df[(df.Dept.notnull()) & (df.Arr.notnull())]\n",
    "df_dep_arr['Gap'] = df_dep_arr.Arr - df_dep_arr.Dept\n",
    "df.Time_gap[(df.Dept.notnull()) & (df.Arr.notnull())] = df_dep_arr.Gap"
   ]
  },
  {
   "cell_type": "code",
   "execution_count": 28,
   "metadata": {},
   "outputs": [
    {
     "output_type": "stream",
     "name": "stderr",
     "text": [
      "/home/tm/.local/lib/python3.8/site-packages/pandas/core/generic.py:5494: SettingWithCopyWarning: \nA value is trying to be set on a copy of a slice from a DataFrame.\nTry using .loc[row_indexer,col_indexer] = value instead\n\nSee the caveats in the documentation: https://pandas.pydata.org/pandas-docs/stable/user_guide/indexing.html#returning-a-view-versus-a-copy\n  self[name] = value\n<ipython-input-28-9405723adb4f>:4: SettingWithCopyWarning: \nA value is trying to be set on a copy of a slice from a DataFrame\n\nSee the caveats in the documentation: https://pandas.pydata.org/pandas-docs/stable/user_guide/indexing.html#returning-a-view-versus-a-copy\n  df.Arr[(df.Dept.notnull()) & (df.Time_gap.notnull())] = df_dep_gap.Arr\n"
     ]
    }
   ],
   "source": [
    "# fill n/a giờ arr = dept + gap\n",
    "df_dep_gap = df[(df.Dept.notnull()) & (df.Time_gap.notnull())]\n",
    "df_dep_gap.Arr = df_dep_gap.Dept + df_dep_gap.Time_gap\n",
    "df.Arr[(df.Dept.notnull()) & (df.Time_gap.notnull())] = df_dep_gap.Arr"
   ]
  },
  {
   "cell_type": "code",
   "execution_count": 29,
   "metadata": {},
   "outputs": [
    {
     "output_type": "execute_result",
     "data": {
      "text/plain": [
       "Timedelta('0 days 00:14:46.919642857')"
      ]
     },
     "metadata": {},
     "execution_count": 29
    }
   ],
   "source": [
    "# thời gian di chuyển trung bình (đã fill n/a)\n",
    "df.Time_gap[df.Time_gap.notnull()].mean()"
   ]
  },
  {
   "cell_type": "code",
   "execution_count": 30,
   "metadata": {},
   "outputs": [
    {
     "output_type": "execute_result",
     "data": {
      "text/plain": [
       "From           0\n",
       "Week_day       0\n",
       "Dept_time      0\n",
       "Time_take      0\n",
       "Arr_time       0\n",
       "Dept          41\n",
       "Arr          139\n",
       "Time_gap     180\n",
       "dtype: int64"
      ]
     },
     "metadata": {},
     "execution_count": 30
    }
   ],
   "source": [
    "df.isnull().sum()"
   ]
  },
  {
   "cell_type": "code",
   "execution_count": 31,
   "metadata": {},
   "outputs": [],
   "source": [
    "# drop n/a\n",
    "df2 = df.dropna()[['From', 'Week_day', 'Dept', 'Time_gap', 'Arr']]"
   ]
  },
  {
   "cell_type": "code",
   "execution_count": 32,
   "metadata": {},
   "outputs": [],
   "source": [
    "# tạo cột giờ trong ngày để nhóm lại\n",
    "df2['Day_time'] = df2.Dept.apply(lambda x: x.time().hour)\n",
    "\n",
    "# tạo cột gap_in_second để tính thời gian\n",
    "df2['gap_in_second'] = df2.Time_gap.apply(lambda x: x.seconds)"
   ]
  },
  {
   "cell_type": "code",
   "execution_count": 33,
   "metadata": {},
   "outputs": [
    {
     "output_type": "execute_result",
     "data": {
      "text/plain": [
       "  From Week_day                Dept        Time_gap                 Arr  \\\n",
       "0    U      Mon 1900-01-01 12:05:00 0 days 00:13:55 1900-01-01 12:18:55   \n",
       "1    H      Tue 1900-01-01 08:36:00 0 days 00:14:19 1900-01-01 08:50:19   \n",
       "2    U      Tue 1900-01-01 15:05:00 0 days 00:14:14 1900-01-01 15:19:14   \n",
       "3    H      Wed 1900-01-01 06:41:00 0 days 00:14:48 1900-01-01 06:55:48   \n",
       "4    U      Wed 1900-01-01 10:12:00 0 days 00:13:04 1900-01-01 10:25:04   \n",
       "\n",
       "   Day_time  gap_in_second  \n",
       "0        12            835  \n",
       "1         8            859  \n",
       "2        15            854  \n",
       "3         6            888  \n",
       "4        10            784  "
      ],
      "text/html": "<div>\n<style scoped>\n    .dataframe tbody tr th:only-of-type {\n        vertical-align: middle;\n    }\n\n    .dataframe tbody tr th {\n        vertical-align: top;\n    }\n\n    .dataframe thead th {\n        text-align: right;\n    }\n</style>\n<table border=\"1\" class=\"dataframe\">\n  <thead>\n    <tr style=\"text-align: right;\">\n      <th></th>\n      <th>From</th>\n      <th>Week_day</th>\n      <th>Dept</th>\n      <th>Time_gap</th>\n      <th>Arr</th>\n      <th>Day_time</th>\n      <th>gap_in_second</th>\n    </tr>\n  </thead>\n  <tbody>\n    <tr>\n      <th>0</th>\n      <td>U</td>\n      <td>Mon</td>\n      <td>1900-01-01 12:05:00</td>\n      <td>0 days 00:13:55</td>\n      <td>1900-01-01 12:18:55</td>\n      <td>12</td>\n      <td>835</td>\n    </tr>\n    <tr>\n      <th>1</th>\n      <td>H</td>\n      <td>Tue</td>\n      <td>1900-01-01 08:36:00</td>\n      <td>0 days 00:14:19</td>\n      <td>1900-01-01 08:50:19</td>\n      <td>8</td>\n      <td>859</td>\n    </tr>\n    <tr>\n      <th>2</th>\n      <td>U</td>\n      <td>Tue</td>\n      <td>1900-01-01 15:05:00</td>\n      <td>0 days 00:14:14</td>\n      <td>1900-01-01 15:19:14</td>\n      <td>15</td>\n      <td>854</td>\n    </tr>\n    <tr>\n      <th>3</th>\n      <td>H</td>\n      <td>Wed</td>\n      <td>1900-01-01 06:41:00</td>\n      <td>0 days 00:14:48</td>\n      <td>1900-01-01 06:55:48</td>\n      <td>6</td>\n      <td>888</td>\n    </tr>\n    <tr>\n      <th>4</th>\n      <td>U</td>\n      <td>Wed</td>\n      <td>1900-01-01 10:12:00</td>\n      <td>0 days 00:13:04</td>\n      <td>1900-01-01 10:25:04</td>\n      <td>10</td>\n      <td>784</td>\n    </tr>\n  </tbody>\n</table>\n</div>"
     },
     "metadata": {},
     "execution_count": 33
    }
   ],
   "source": [
    "df2.head()"
   ]
  },
  {
   "cell_type": "code",
   "execution_count": 34,
   "metadata": {},
   "outputs": [
    {
     "output_type": "execute_result",
     "data": {
      "text/plain": [
       "   From Week_day                Dept        Time_gap                 Arr  \\\n",
       "1     H      Tue 1900-01-01 08:36:00 0 days 00:14:19 1900-01-01 08:50:19   \n",
       "3     H      Wed 1900-01-01 06:41:00 0 days 00:14:48 1900-01-01 06:55:48   \n",
       "5     H      Thu 1900-01-01 06:40:00 0 days 00:13:19 1900-01-01 06:53:19   \n",
       "7     H      Thu 1900-01-01 12:56:00 0 days 00:13:04 1900-01-01 13:09:04   \n",
       "10    H      Tue 1900-01-01 08:46:00 0 days 00:15:32 1900-01-01 09:01:32   \n",
       "\n",
       "    Day_time  gap_in_second  \n",
       "1          8            859  \n",
       "3          6            888  \n",
       "5          6            799  \n",
       "7         12            784  \n",
       "10         8            932  "
      ],
      "text/html": "<div>\n<style scoped>\n    .dataframe tbody tr th:only-of-type {\n        vertical-align: middle;\n    }\n\n    .dataframe tbody tr th {\n        vertical-align: top;\n    }\n\n    .dataframe thead th {\n        text-align: right;\n    }\n</style>\n<table border=\"1\" class=\"dataframe\">\n  <thead>\n    <tr style=\"text-align: right;\">\n      <th></th>\n      <th>From</th>\n      <th>Week_day</th>\n      <th>Dept</th>\n      <th>Time_gap</th>\n      <th>Arr</th>\n      <th>Day_time</th>\n      <th>gap_in_second</th>\n    </tr>\n  </thead>\n  <tbody>\n    <tr>\n      <th>1</th>\n      <td>H</td>\n      <td>Tue</td>\n      <td>1900-01-01 08:36:00</td>\n      <td>0 days 00:14:19</td>\n      <td>1900-01-01 08:50:19</td>\n      <td>8</td>\n      <td>859</td>\n    </tr>\n    <tr>\n      <th>3</th>\n      <td>H</td>\n      <td>Wed</td>\n      <td>1900-01-01 06:41:00</td>\n      <td>0 days 00:14:48</td>\n      <td>1900-01-01 06:55:48</td>\n      <td>6</td>\n      <td>888</td>\n    </tr>\n    <tr>\n      <th>5</th>\n      <td>H</td>\n      <td>Thu</td>\n      <td>1900-01-01 06:40:00</td>\n      <td>0 days 00:13:19</td>\n      <td>1900-01-01 06:53:19</td>\n      <td>6</td>\n      <td>799</td>\n    </tr>\n    <tr>\n      <th>7</th>\n      <td>H</td>\n      <td>Thu</td>\n      <td>1900-01-01 12:56:00</td>\n      <td>0 days 00:13:04</td>\n      <td>1900-01-01 13:09:04</td>\n      <td>12</td>\n      <td>784</td>\n    </tr>\n    <tr>\n      <th>10</th>\n      <td>H</td>\n      <td>Tue</td>\n      <td>1900-01-01 08:46:00</td>\n      <td>0 days 00:15:32</td>\n      <td>1900-01-01 09:01:32</td>\n      <td>8</td>\n      <td>932</td>\n    </tr>\n  </tbody>\n</table>\n</div>"
     },
     "metadata": {},
     "execution_count": 34
    }
   ],
   "source": [
    "# tạo bảng df_H chỉ gồm thời gian đi từ nhà\n",
    "df_H = df2[df2.From=='H']\n",
    "df_H.head()"
   ]
  },
  {
   "cell_type": "code",
   "execution_count": 36,
   "metadata": {},
   "outputs": [
    {
     "output_type": "execute_result",
     "data": {
      "text/plain": [
       "{'Mon': Timestamp('1900-01-01 07:26:59.350000384'),\n",
       " 'Tue': Timestamp('1900-01-01 08:30:14.166666496'),\n",
       " 'Wed': Timestamp('1900-01-01 08:42:27.639999744'),\n",
       " 'Thu': Timestamp('1900-01-01 08:45:59.866666496'),\n",
       " 'Fri': Timestamp('1900-01-01 07:34:24.160000256'),\n",
       " 'Sat': Timestamp('1900-01-01 11:00:08.714285824'),\n",
       " 'Sun': Timestamp('1900-01-01 10:43:40')}"
      ]
     },
     "metadata": {},
     "execution_count": 36
    }
   ],
   "source": [
    "# thời gian tới trường trung bình theo thời điểm bắt đầu đi trong ngày\n",
    "time_to_U = df_H.groupby('Day_time').gap_in_second.mean()\n",
    "# giờ trung bình bắt đầu tới trường theo ngày trong tuần\n",
    "wday = ['Mon', 'Tue', 'Wed', 'Thu', 'Fri', 'Sat', 'Sun']\n",
    "d = {i:df_H.loc[df_H.Week_day==i, 'Arr'].mean() for i in wday}\n",
    "d"
   ]
  },
  {
   "cell_type": "code",
   "execution_count": 37,
   "metadata": {},
   "outputs": [
    {
     "output_type": "execute_result",
     "data": {
      "text/plain": [
       "H    232\n",
       "U    172\n",
       "Name: From, dtype: int64"
      ]
     },
     "metadata": {},
     "execution_count": 37
    }
   ],
   "source": [
    "# số lượt di chuyển tới trường & về nhà\n",
    "df.From.value_counts()"
   ]
  },
  {
   "cell_type": "code",
   "execution_count": null,
   "metadata": {},
   "outputs": [],
   "source": []
  }
 ],
 "metadata": {
  "kernelspec": {
   "display_name": "Python 3",
   "language": "python",
   "name": "python3"
  },
  "language_info": {
   "codemirror_mode": {
    "name": "ipython",
    "version": 3
   },
   "file_extension": ".py",
   "mimetype": "text/x-python",
   "name": "python",
   "nbconvert_exporter": "python",
   "pygments_lexer": "ipython3",
   "version": "3.8.5"
  }
 },
 "nbformat": 4,
 "nbformat_minor": 4
}