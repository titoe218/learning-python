{
 "cells": [
  {
   "cell_type": "code",
   "execution_count": 1,
   "metadata": {},
   "outputs": [],
   "source": [
    "import numpy as np\n",
    "import pandas as pd"
   ]
  },
  {
   "cell_type": "code",
   "execution_count": 2,
   "metadata": {},
   "outputs": [],
   "source": [
    "with open('Bus_data.txt', 'r') as f:\n",
    "    text = f.readlines()\n",
    "    \n",
    "l = []\n",
    "for item in text:\n",
    "    if item.startswith('H.') or item.startswith('U.'):\n",
    "        l.append(item.strip('\\n').split())"
   ]
  },
  {
   "cell_type": "code",
   "execution_count": 3,
   "metadata": {},
   "outputs": [
    {
     "data": {
      "text/html": [
       "<div>\n",
       "<style scoped>\n",
       "    .dataframe tbody tr th:only-of-type {\n",
       "        vertical-align: middle;\n",
       "    }\n",
       "\n",
       "    .dataframe tbody tr th {\n",
       "        vertical-align: top;\n",
       "    }\n",
       "\n",
       "    .dataframe thead th {\n",
       "        text-align: right;\n",
       "    }\n",
       "</style>\n",
       "<table border=\"1\" class=\"dataframe\">\n",
       "  <thead>\n",
       "    <tr style=\"text-align: right;\">\n",
       "      <th></th>\n",
       "      <th>From</th>\n",
       "      <th>Week_day</th>\n",
       "      <th>Dept_time</th>\n",
       "      <th>Time_take</th>\n",
       "      <th>Arr_time</th>\n",
       "    </tr>\n",
       "  </thead>\n",
       "  <tbody>\n",
       "    <tr>\n",
       "      <th>0</th>\n",
       "      <td>U.</td>\n",
       "      <td>Mon</td>\n",
       "      <td>12h05</td>\n",
       "      <td>13m55</td>\n",
       "      <td>None</td>\n",
       "    </tr>\n",
       "    <tr>\n",
       "      <th>1</th>\n",
       "      <td>H.</td>\n",
       "      <td>Tue</td>\n",
       "      <td>08h36</td>\n",
       "      <td>14m19</td>\n",
       "      <td>None</td>\n",
       "    </tr>\n",
       "    <tr>\n",
       "      <th>2</th>\n",
       "      <td>U.</td>\n",
       "      <td>Tue</td>\n",
       "      <td>15h05</td>\n",
       "      <td>14m14</td>\n",
       "      <td>None</td>\n",
       "    </tr>\n",
       "    <tr>\n",
       "      <th>3</th>\n",
       "      <td>H.</td>\n",
       "      <td>Wed</td>\n",
       "      <td>06h41</td>\n",
       "      <td>14m48</td>\n",
       "      <td>None</td>\n",
       "    </tr>\n",
       "    <tr>\n",
       "      <th>4</th>\n",
       "      <td>U.</td>\n",
       "      <td>Wed</td>\n",
       "      <td>10h12</td>\n",
       "      <td>13m04</td>\n",
       "      <td>None</td>\n",
       "    </tr>\n",
       "  </tbody>\n",
       "</table>\n",
       "</div>"
      ],
      "text/plain": [
       "  From Week_day Dept_time Time_take Arr_time\n",
       "0   U.      Mon     12h05     13m55     None\n",
       "1   H.      Tue     08h36     14m19     None\n",
       "2   U.      Tue     15h05     14m14     None\n",
       "3   H.      Wed     06h41     14m48     None\n",
       "4   U.      Wed     10h12     13m04     None"
      ]
     },
     "execution_count": 3,
     "metadata": {},
     "output_type": "execute_result"
    }
   ],
   "source": [
    "col = ['From', 'Week_day', 'Dept_time', 'Time_take', 'Arr_time']\n",
    "df = pd.DataFrame(l, columns=col)\n",
    "df.head()"
   ]
  },
  {
   "cell_type": "code",
   "execution_count": 4,
   "metadata": {},
   "outputs": [
    {
     "name": "stdout",
     "output_type": "stream",
     "text": [
      "<class 'pandas.core.frame.DataFrame'>\n",
      "RangeIndex: 404 entries, 0 to 403\n",
      "Data columns (total 5 columns):\n",
      " #   Column     Non-Null Count  Dtype \n",
      "---  ------     --------------  ----- \n",
      " 0   From       404 non-null    object\n",
      " 1   Week_day   404 non-null    object\n",
      " 2   Dept_time  404 non-null    object\n",
      " 3   Time_take  365 non-null    object\n",
      " 4   Arr_time   303 non-null    object\n",
      "dtypes: object(5)\n",
      "memory usage: 15.9+ KB\n"
     ]
    }
   ],
   "source": [
    "df.info()"
   ]
  },
  {
   "cell_type": "code",
   "execution_count": 5,
   "metadata": {},
   "outputs": [
    {
     "data": {
      "text/plain": [
       "From           0\n",
       "Week_day       0\n",
       "Dept_time      0\n",
       "Time_take     39\n",
       "Arr_time     101\n",
       "dtype: int64"
      ]
     },
     "execution_count": 5,
     "metadata": {},
     "output_type": "execute_result"
    }
   ],
   "source": [
    "df.isnull().sum()"
   ]
  },
  {
   "cell_type": "code",
   "execution_count": 6,
   "metadata": {},
   "outputs": [],
   "source": [
    "df.fillna('.', inplace=True)"
   ]
  },
  {
   "cell_type": "code",
   "execution_count": 7,
   "metadata": {},
   "outputs": [
    {
     "data": {
      "text/plain": [
       "array(['Mon', 'Tue', 'Wed', 'Thu', 'Fri', 'Sun', 'Sat', 'Thu.', 'Fri.',\n",
       "       'Mon.', 'Tue.', 'Wed.', 'Sun.', 'Sat.'], dtype=object)"
      ]
     },
     "execution_count": 7,
     "metadata": {},
     "output_type": "execute_result"
    }
   ],
   "source": [
    "df.Week_day.unique()"
   ]
  },
  {
   "cell_type": "code",
   "execution_count": 8,
   "metadata": {},
   "outputs": [],
   "source": [
    "for i in col:\n",
    "    df[i] = df[i].apply(lambda x: x.strip('. '))"
   ]
  },
  {
   "cell_type": "code",
   "execution_count": 9,
   "metadata": {},
   "outputs": [
    {
     "data": {
      "text/plain": [
       "array(['Mon', 'Tue', 'Wed', 'Thu', 'Fri', 'Sun', 'Sat'], dtype=object)"
      ]
     },
     "execution_count": 9,
     "metadata": {},
     "output_type": "execute_result"
    }
   ],
   "source": [
    "df.Week_day.unique()"
   ]
  },
  {
   "cell_type": "code",
   "execution_count": 10,
   "metadata": {},
   "outputs": [
    {
     "data": {
      "text/html": [
       "<div>\n",
       "<style scoped>\n",
       "    .dataframe tbody tr th:only-of-type {\n",
       "        vertical-align: middle;\n",
       "    }\n",
       "\n",
       "    .dataframe tbody tr th {\n",
       "        vertical-align: top;\n",
       "    }\n",
       "\n",
       "    .dataframe thead th {\n",
       "        text-align: right;\n",
       "    }\n",
       "</style>\n",
       "<table border=\"1\" class=\"dataframe\">\n",
       "  <thead>\n",
       "    <tr style=\"text-align: right;\">\n",
       "      <th></th>\n",
       "      <th>From</th>\n",
       "      <th>Week_day</th>\n",
       "      <th>Dept_time</th>\n",
       "      <th>Time_take</th>\n",
       "      <th>Arr_time</th>\n",
       "    </tr>\n",
       "  </thead>\n",
       "  <tbody>\n",
       "    <tr>\n",
       "      <th>0</th>\n",
       "      <td>U</td>\n",
       "      <td>Mon</td>\n",
       "      <td>12h05</td>\n",
       "      <td>13m55</td>\n",
       "      <td></td>\n",
       "    </tr>\n",
       "    <tr>\n",
       "      <th>1</th>\n",
       "      <td>H</td>\n",
       "      <td>Tue</td>\n",
       "      <td>08h36</td>\n",
       "      <td>14m19</td>\n",
       "      <td></td>\n",
       "    </tr>\n",
       "    <tr>\n",
       "      <th>2</th>\n",
       "      <td>U</td>\n",
       "      <td>Tue</td>\n",
       "      <td>15h05</td>\n",
       "      <td>14m14</td>\n",
       "      <td></td>\n",
       "    </tr>\n",
       "    <tr>\n",
       "      <th>3</th>\n",
       "      <td>H</td>\n",
       "      <td>Wed</td>\n",
       "      <td>06h41</td>\n",
       "      <td>14m48</td>\n",
       "      <td></td>\n",
       "    </tr>\n",
       "    <tr>\n",
       "      <th>4</th>\n",
       "      <td>U</td>\n",
       "      <td>Wed</td>\n",
       "      <td>10h12</td>\n",
       "      <td>13m04</td>\n",
       "      <td></td>\n",
       "    </tr>\n",
       "    <tr>\n",
       "      <th>...</th>\n",
       "      <td>...</td>\n",
       "      <td>...</td>\n",
       "      <td>...</td>\n",
       "      <td>...</td>\n",
       "      <td>...</td>\n",
       "    </tr>\n",
       "    <tr>\n",
       "      <th>399</th>\n",
       "      <td>H</td>\n",
       "      <td>Mon</td>\n",
       "      <td>09h48</td>\n",
       "      <td></td>\n",
       "      <td></td>\n",
       "    </tr>\n",
       "    <tr>\n",
       "      <th>400</th>\n",
       "      <td>H</td>\n",
       "      <td>Tue</td>\n",
       "      <td>12h26</td>\n",
       "      <td></td>\n",
       "      <td></td>\n",
       "    </tr>\n",
       "    <tr>\n",
       "      <th>401</th>\n",
       "      <td>H</td>\n",
       "      <td>Thu</td>\n",
       "      <td>06h40</td>\n",
       "      <td></td>\n",
       "      <td></td>\n",
       "    </tr>\n",
       "    <tr>\n",
       "      <th>402</th>\n",
       "      <td>H</td>\n",
       "      <td>Fri</td>\n",
       "      <td>09h30</td>\n",
       "      <td></td>\n",
       "      <td></td>\n",
       "    </tr>\n",
       "    <tr>\n",
       "      <th>403</th>\n",
       "      <td>U</td>\n",
       "      <td>Fri</td>\n",
       "      <td>12h06</td>\n",
       "      <td></td>\n",
       "      <td></td>\n",
       "    </tr>\n",
       "  </tbody>\n",
       "</table>\n",
       "<p>404 rows × 5 columns</p>\n",
       "</div>"
      ],
      "text/plain": [
       "    From Week_day Dept_time Time_take Arr_time\n",
       "0      U      Mon     12h05     13m55         \n",
       "1      H      Tue     08h36     14m19         \n",
       "2      U      Tue     15h05     14m14         \n",
       "3      H      Wed     06h41     14m48         \n",
       "4      U      Wed     10h12     13m04         \n",
       "..   ...      ...       ...       ...      ...\n",
       "399    H      Mon     09h48                   \n",
       "400    H      Tue     12h26                   \n",
       "401    H      Thu     06h40                   \n",
       "402    H      Fri     09h30                   \n",
       "403    U      Fri     12h06                   \n",
       "\n",
       "[404 rows x 5 columns]"
      ]
     },
     "execution_count": 10,
     "metadata": {},
     "output_type": "execute_result"
    }
   ],
   "source": [
    "df"
   ]
  }
 ],
 "metadata": {
  "kernelspec": {
   "display_name": "Python 3",
   "language": "python",
   "name": "python3"
  },
  "language_info": {
   "codemirror_mode": {
    "name": "ipython",
    "version": 3
   },
   "file_extension": ".py",
   "mimetype": "text/x-python",
   "name": "python",
   "nbconvert_exporter": "python",
   "pygments_lexer": "ipython3",
   "version": "3.8.5"
  }
 },
 "nbformat": 4,
 "nbformat_minor": 4
}
