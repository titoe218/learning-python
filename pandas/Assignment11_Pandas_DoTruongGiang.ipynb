{
 "cells": [
  {
   "cell_type": "code",
   "execution_count": 1,
   "metadata": {},
   "outputs": [],
   "source": [
    "#DATA CLEANING................................................................................................."
   ]
  },
  {
   "cell_type": "code",
   "execution_count": 2,
   "metadata": {},
   "outputs": [],
   "source": [
    "import pandas as pd\n",
    "\n",
    "df = pd.read_table('BusData.txt',header=None)"
   ]
  },
  {
   "cell_type": "code",
   "execution_count": 3,
   "metadata": {},
   "outputs": [
    {
     "data": {
      "text/html": [
       "<div>\n",
       "<style scoped>\n",
       "    .dataframe tbody tr th:only-of-type {\n",
       "        vertical-align: middle;\n",
       "    }\n",
       "\n",
       "    .dataframe tbody tr th {\n",
       "        vertical-align: top;\n",
       "    }\n",
       "\n",
       "    .dataframe thead th {\n",
       "        text-align: right;\n",
       "    }\n",
       "</style>\n",
       "<table border=\"1\" class=\"dataframe\">\n",
       "  <thead>\n",
       "    <tr style=\"text-align: right;\">\n",
       "      <th></th>\n",
       "      <th>0</th>\n",
       "    </tr>\n",
       "  </thead>\n",
       "  <tbody>\n",
       "    <tr>\n",
       "      <th>0</th>\n",
       "      <td>Direction. U (from univer). H (from home)</td>\n",
       "    </tr>\n",
       "    <tr>\n",
       "      <th>1</th>\n",
       "      <td>Day of week: Mon, Tue, Wed, Thu, Fri, Sat, Sun</td>\n",
       "    </tr>\n",
       "    <tr>\n",
       "      <th>2</th>\n",
       "      <td>Departure time: hhmm</td>\n",
       "    </tr>\n",
       "    <tr>\n",
       "      <th>3</th>\n",
       "      <td>Time take: mmss</td>\n",
       "    </tr>\n",
       "    <tr>\n",
       "      <th>4</th>\n",
       "      <td>Arrival time: hhmm</td>\n",
       "    </tr>\n",
       "    <tr>\n",
       "      <th>5</th>\n",
       "      <td># 16.04.2018</td>\n",
       "    </tr>\n",
       "    <tr>\n",
       "      <th>6</th>\n",
       "      <td>U. Mon 12h05 13m55</td>\n",
       "    </tr>\n",
       "    <tr>\n",
       "      <th>7</th>\n",
       "      <td>H. Tue 08h36 14m19</td>\n",
       "    </tr>\n",
       "    <tr>\n",
       "      <th>8</th>\n",
       "      <td>U. Tue 15h05 14m14</td>\n",
       "    </tr>\n",
       "    <tr>\n",
       "      <th>9</th>\n",
       "      <td>H. Wed 06h41 14m48</td>\n",
       "    </tr>\n",
       "  </tbody>\n",
       "</table>\n",
       "</div>"
      ],
      "text/plain": [
       "                                                0\n",
       "0       Direction. U (from univer). H (from home)\n",
       "1  Day of week: Mon, Tue, Wed, Thu, Fri, Sat, Sun\n",
       "2                            Departure time: hhmm\n",
       "3                                 Time take: mmss\n",
       "4                              Arrival time: hhmm\n",
       "5                                    # 16.04.2018\n",
       "6                              U. Mon 12h05 13m55\n",
       "7                              H. Tue 08h36 14m19\n",
       "8                              U. Tue 15h05 14m14\n",
       "9                              H. Wed 06h41 14m48"
      ]
     },
     "execution_count": 3,
     "metadata": {},
     "output_type": "execute_result"
    }
   ],
   "source": [
    "df.head(10)"
   ]
  },
  {
   "cell_type": "code",
   "execution_count": 4,
   "metadata": {},
   "outputs": [
    {
     "data": {
      "text/plain": [
       "(429, 1)"
      ]
     },
     "execution_count": 4,
     "metadata": {},
     "output_type": "execute_result"
    }
   ],
   "source": [
    "df.shape"
   ]
  },
  {
   "cell_type": "code",
   "execution_count": 5,
   "metadata": {},
   "outputs": [],
   "source": [
    "df2 = df.iloc[6:,:]"
   ]
  },
  {
   "cell_type": "code",
   "execution_count": 6,
   "metadata": {},
   "outputs": [
    {
     "data": {
      "text/html": [
       "<div>\n",
       "<style scoped>\n",
       "    .dataframe tbody tr th:only-of-type {\n",
       "        vertical-align: middle;\n",
       "    }\n",
       "\n",
       "    .dataframe tbody tr th {\n",
       "        vertical-align: top;\n",
       "    }\n",
       "\n",
       "    .dataframe thead th {\n",
       "        text-align: right;\n",
       "    }\n",
       "</style>\n",
       "<table border=\"1\" class=\"dataframe\">\n",
       "  <thead>\n",
       "    <tr style=\"text-align: right;\">\n",
       "      <th></th>\n",
       "      <th>0</th>\n",
       "    </tr>\n",
       "  </thead>\n",
       "  <tbody>\n",
       "    <tr>\n",
       "      <th>6</th>\n",
       "      <td>U. Mon 12h05 13m55</td>\n",
       "    </tr>\n",
       "    <tr>\n",
       "      <th>7</th>\n",
       "      <td>H. Tue 08h36 14m19</td>\n",
       "    </tr>\n",
       "    <tr>\n",
       "      <th>8</th>\n",
       "      <td>U. Tue 15h05 14m14</td>\n",
       "    </tr>\n",
       "    <tr>\n",
       "      <th>9</th>\n",
       "      <td>H. Wed 06h41 14m48</td>\n",
       "    </tr>\n",
       "    <tr>\n",
       "      <th>10</th>\n",
       "      <td>U. Wed 10h12 13m04</td>\n",
       "    </tr>\n",
       "  </tbody>\n",
       "</table>\n",
       "</div>"
      ],
      "text/plain": [
       "                     0\n",
       "6   U. Mon 12h05 13m55\n",
       "7   H. Tue 08h36 14m19\n",
       "8   U. Tue 15h05 14m14\n",
       "9   H. Wed 06h41 14m48\n",
       "10  U. Wed 10h12 13m04"
      ]
     },
     "execution_count": 6,
     "metadata": {},
     "output_type": "execute_result"
    }
   ],
   "source": [
    "df2.head()"
   ]
  },
  {
   "cell_type": "code",
   "execution_count": 7,
   "metadata": {},
   "outputs": [],
   "source": [
    "df2.columns = ['all_data']"
   ]
  },
  {
   "cell_type": "code",
   "execution_count": 8,
   "metadata": {},
   "outputs": [
    {
     "name": "stderr",
     "output_type": "stream",
     "text": [
      "/home/ubuntu/anaconda3/envs/giangdip/lib/python3.7/site-packages/ipykernel_launcher.py:1: SettingWithCopyWarning: \n",
      "A value is trying to be set on a copy of a slice from a DataFrame.\n",
      "Try using .loc[row_indexer,col_indexer] = value instead\n",
      "\n",
      "See the caveats in the documentation: https://pandas.pydata.org/pandas-docs/stable/user_guide/indexing.html#returning-a-view-versus-a-copy\n",
      "  \"\"\"Entry point for launching an IPython kernel.\n"
     ]
    }
   ],
   "source": [
    "df2['True_row'] = df2['all_data'].apply(lambda x: True if x[:2] in ['U.','H.'] else False)"
   ]
  },
  {
   "cell_type": "code",
   "execution_count": 9,
   "metadata": {},
   "outputs": [
    {
     "data": {
      "text/html": [
       "<div>\n",
       "<style scoped>\n",
       "    .dataframe tbody tr th:only-of-type {\n",
       "        vertical-align: middle;\n",
       "    }\n",
       "\n",
       "    .dataframe tbody tr th {\n",
       "        vertical-align: top;\n",
       "    }\n",
       "\n",
       "    .dataframe thead th {\n",
       "        text-align: right;\n",
       "    }\n",
       "</style>\n",
       "<table border=\"1\" class=\"dataframe\">\n",
       "  <thead>\n",
       "    <tr style=\"text-align: right;\">\n",
       "      <th></th>\n",
       "      <th>all_data</th>\n",
       "      <th>True_row</th>\n",
       "    </tr>\n",
       "  </thead>\n",
       "  <tbody>\n",
       "    <tr>\n",
       "      <th>6</th>\n",
       "      <td>U. Mon 12h05 13m55</td>\n",
       "      <td>True</td>\n",
       "    </tr>\n",
       "    <tr>\n",
       "      <th>7</th>\n",
       "      <td>H. Tue 08h36 14m19</td>\n",
       "      <td>True</td>\n",
       "    </tr>\n",
       "    <tr>\n",
       "      <th>8</th>\n",
       "      <td>U. Tue 15h05 14m14</td>\n",
       "      <td>True</td>\n",
       "    </tr>\n",
       "    <tr>\n",
       "      <th>9</th>\n",
       "      <td>H. Wed 06h41 14m48</td>\n",
       "      <td>True</td>\n",
       "    </tr>\n",
       "    <tr>\n",
       "      <th>10</th>\n",
       "      <td>U. Wed 10h12 13m04</td>\n",
       "      <td>True</td>\n",
       "    </tr>\n",
       "  </tbody>\n",
       "</table>\n",
       "</div>"
      ],
      "text/plain": [
       "              all_data  True_row\n",
       "6   U. Mon 12h05 13m55      True\n",
       "7   H. Tue 08h36 14m19      True\n",
       "8   U. Tue 15h05 14m14      True\n",
       "9   H. Wed 06h41 14m48      True\n",
       "10  U. Wed 10h12 13m04      True"
      ]
     },
     "execution_count": 9,
     "metadata": {},
     "output_type": "execute_result"
    }
   ],
   "source": [
    "df2.head()"
   ]
  },
  {
   "cell_type": "code",
   "execution_count": 10,
   "metadata": {},
   "outputs": [
    {
     "data": {
      "text/plain": [
       "(423, 2)"
      ]
     },
     "execution_count": 10,
     "metadata": {},
     "output_type": "execute_result"
    }
   ],
   "source": [
    "df2.shape"
   ]
  },
  {
   "cell_type": "code",
   "execution_count": 11,
   "metadata": {},
   "outputs": [],
   "source": [
    "df2 = df2[df2['True_row'] == True]"
   ]
  },
  {
   "cell_type": "code",
   "execution_count": 12,
   "metadata": {},
   "outputs": [
    {
     "data": {
      "text/plain": [
       "(404, 2)"
      ]
     },
     "execution_count": 12,
     "metadata": {},
     "output_type": "execute_result"
    }
   ],
   "source": [
    "df2.shape"
   ]
  },
  {
   "cell_type": "code",
   "execution_count": 13,
   "metadata": {},
   "outputs": [],
   "source": [
    "df2 = df2.drop_duplicates()"
   ]
  },
  {
   "cell_type": "code",
   "execution_count": 14,
   "metadata": {},
   "outputs": [],
   "source": [
    "df2 = df2.drop(['True_row'],axis=1).reset_index(drop=True)"
   ]
  },
  {
   "cell_type": "code",
   "execution_count": 15,
   "metadata": {},
   "outputs": [],
   "source": [
    "df2['num_of_data'] = df2['all_data'].apply(lambda x: len(x.split()))"
   ]
  },
  {
   "cell_type": "code",
   "execution_count": 16,
   "metadata": {
    "scrolled": true
   },
   "outputs": [
    {
     "data": {
      "text/plain": [
       "5    287\n",
       "4     62\n",
       "3     39\n",
       "Name: num_of_data, dtype: int64"
      ]
     },
     "execution_count": 16,
     "metadata": {},
     "output_type": "execute_result"
    }
   ],
   "source": [
    "df2['num_of_data'].value_counts()"
   ]
  },
  {
   "cell_type": "code",
   "execution_count": 17,
   "metadata": {},
   "outputs": [],
   "source": [
    "df2['Direction'] = df2['all_data'].apply(lambda x: x.split()[0])\n",
    "df2['Day_of_week'] = df2['all_data'].apply(lambda x: x.split()[1] if len(x.split()) >=2 else '-1')\n",
    "df2['Departure'] = df2['all_data'].apply(lambda x: x.split()[2] if len(x.split()) >=3 else '-1')\n",
    "df2['Time_take'] = df2['all_data'].apply(lambda x: x.split()[3] if len(x.split()) >=4 else '-1')\n",
    "df2['Arrival'] = df2['all_data'].apply(lambda x: x.split()[4] if len(x.split()) >=5 else '-1')"
   ]
  },
  {
   "cell_type": "code",
   "execution_count": 18,
   "metadata": {},
   "outputs": [],
   "source": [
    "df2 = df2.reset_index(drop=True)"
   ]
  },
  {
   "cell_type": "code",
   "execution_count": 19,
   "metadata": {
    "scrolled": false
   },
   "outputs": [
    {
     "data": {
      "text/html": [
       "<div>\n",
       "<style scoped>\n",
       "    .dataframe tbody tr th:only-of-type {\n",
       "        vertical-align: middle;\n",
       "    }\n",
       "\n",
       "    .dataframe tbody tr th {\n",
       "        vertical-align: top;\n",
       "    }\n",
       "\n",
       "    .dataframe thead th {\n",
       "        text-align: right;\n",
       "    }\n",
       "</style>\n",
       "<table border=\"1\" class=\"dataframe\">\n",
       "  <thead>\n",
       "    <tr style=\"text-align: right;\">\n",
       "      <th></th>\n",
       "      <th>all_data</th>\n",
       "      <th>num_of_data</th>\n",
       "      <th>Direction</th>\n",
       "      <th>Day_of_week</th>\n",
       "      <th>Departure</th>\n",
       "      <th>Time_take</th>\n",
       "      <th>Arrival</th>\n",
       "    </tr>\n",
       "  </thead>\n",
       "  <tbody>\n",
       "    <tr>\n",
       "      <th>0</th>\n",
       "      <td>U. Mon 12h05 13m55</td>\n",
       "      <td>4</td>\n",
       "      <td>U.</td>\n",
       "      <td>Mon</td>\n",
       "      <td>12h05</td>\n",
       "      <td>13m55</td>\n",
       "      <td>-1</td>\n",
       "    </tr>\n",
       "    <tr>\n",
       "      <th>1</th>\n",
       "      <td>H. Tue 08h36 14m19</td>\n",
       "      <td>4</td>\n",
       "      <td>H.</td>\n",
       "      <td>Tue</td>\n",
       "      <td>08h36</td>\n",
       "      <td>14m19</td>\n",
       "      <td>-1</td>\n",
       "    </tr>\n",
       "    <tr>\n",
       "      <th>2</th>\n",
       "      <td>U. Tue 15h05 14m14</td>\n",
       "      <td>4</td>\n",
       "      <td>U.</td>\n",
       "      <td>Tue</td>\n",
       "      <td>15h05</td>\n",
       "      <td>14m14</td>\n",
       "      <td>-1</td>\n",
       "    </tr>\n",
       "    <tr>\n",
       "      <th>3</th>\n",
       "      <td>H. Wed 06h41 14m48</td>\n",
       "      <td>4</td>\n",
       "      <td>H.</td>\n",
       "      <td>Wed</td>\n",
       "      <td>06h41</td>\n",
       "      <td>14m48</td>\n",
       "      <td>-1</td>\n",
       "    </tr>\n",
       "    <tr>\n",
       "      <th>4</th>\n",
       "      <td>U. Wed 10h12 13m04</td>\n",
       "      <td>4</td>\n",
       "      <td>U.</td>\n",
       "      <td>Wed</td>\n",
       "      <td>10h12</td>\n",
       "      <td>13m04</td>\n",
       "      <td>-1</td>\n",
       "    </tr>\n",
       "  </tbody>\n",
       "</table>\n",
       "</div>"
      ],
      "text/plain": [
       "             all_data  num_of_data Direction Day_of_week Departure Time_take  \\\n",
       "0  U. Mon 12h05 13m55            4        U.         Mon     12h05     13m55   \n",
       "1  H. Tue 08h36 14m19            4        H.         Tue     08h36     14m19   \n",
       "2  U. Tue 15h05 14m14            4        U.         Tue     15h05     14m14   \n",
       "3  H. Wed 06h41 14m48            4        H.         Wed     06h41     14m48   \n",
       "4  U. Wed 10h12 13m04            4        U.         Wed     10h12     13m04   \n",
       "\n",
       "  Arrival  \n",
       "0      -1  \n",
       "1      -1  \n",
       "2      -1  \n",
       "3      -1  \n",
       "4      -1  "
      ]
     },
     "execution_count": 19,
     "metadata": {},
     "output_type": "execute_result"
    }
   ],
   "source": [
    "df2.head()"
   ]
  },
  {
   "cell_type": "code",
   "execution_count": 20,
   "metadata": {},
   "outputs": [],
   "source": [
    "df2['Departure_hh'] = df2['Departure'].apply(lambda x: int(x[:2]) if len(x) >4 else -1) "
   ]
  },
  {
   "cell_type": "code",
   "execution_count": 21,
   "metadata": {},
   "outputs": [],
   "source": [
    "df2['Departure_mm'] = df2['Departure'].apply(lambda x: int(x[3:5]) if len(x) >4 else -1)"
   ]
  },
  {
   "cell_type": "code",
   "execution_count": 22,
   "metadata": {},
   "outputs": [],
   "source": [
    "df2['Time_take_mm'] = df2['Time_take'].apply(lambda x: int(x[:2]) if len(x) >4 else -1)"
   ]
  },
  {
   "cell_type": "code",
   "execution_count": 23,
   "metadata": {},
   "outputs": [],
   "source": [
    "df2['Time_take_ss'] = df2['Time_take'].apply(lambda x: int(x[3:5]) if len(x) >4 else -1)"
   ]
  },
  {
   "cell_type": "code",
   "execution_count": 24,
   "metadata": {},
   "outputs": [],
   "source": [
    "df2['Arrival_hh'] = df2['Arrival'].apply(lambda x: int(x[:2]) if len(x) >4 else -1)"
   ]
  },
  {
   "cell_type": "code",
   "execution_count": 25,
   "metadata": {},
   "outputs": [],
   "source": [
    "df2['Arrival_mm'] = df2['Arrival'].apply(lambda x: int(x[3:5]) if len(x) >4 else -1)"
   ]
  },
  {
   "cell_type": "code",
   "execution_count": 26,
   "metadata": {},
   "outputs": [
    {
     "data": {
      "text/html": [
       "<div>\n",
       "<style scoped>\n",
       "    .dataframe tbody tr th:only-of-type {\n",
       "        vertical-align: middle;\n",
       "    }\n",
       "\n",
       "    .dataframe tbody tr th {\n",
       "        vertical-align: top;\n",
       "    }\n",
       "\n",
       "    .dataframe thead th {\n",
       "        text-align: right;\n",
       "    }\n",
       "</style>\n",
       "<table border=\"1\" class=\"dataframe\">\n",
       "  <thead>\n",
       "    <tr style=\"text-align: right;\">\n",
       "      <th></th>\n",
       "      <th>all_data</th>\n",
       "      <th>num_of_data</th>\n",
       "      <th>Direction</th>\n",
       "      <th>Day_of_week</th>\n",
       "      <th>Departure</th>\n",
       "      <th>Time_take</th>\n",
       "      <th>Arrival</th>\n",
       "      <th>Departure_hh</th>\n",
       "      <th>Departure_mm</th>\n",
       "      <th>Time_take_mm</th>\n",
       "      <th>Time_take_ss</th>\n",
       "      <th>Arrival_hh</th>\n",
       "      <th>Arrival_mm</th>\n",
       "    </tr>\n",
       "  </thead>\n",
       "  <tbody>\n",
       "    <tr>\n",
       "      <th>0</th>\n",
       "      <td>U. Mon 12h05 13m55</td>\n",
       "      <td>4</td>\n",
       "      <td>U.</td>\n",
       "      <td>Mon</td>\n",
       "      <td>12h05</td>\n",
       "      <td>13m55</td>\n",
       "      <td>-1</td>\n",
       "      <td>12</td>\n",
       "      <td>5</td>\n",
       "      <td>13</td>\n",
       "      <td>55</td>\n",
       "      <td>-1</td>\n",
       "      <td>-1</td>\n",
       "    </tr>\n",
       "    <tr>\n",
       "      <th>1</th>\n",
       "      <td>H. Tue 08h36 14m19</td>\n",
       "      <td>4</td>\n",
       "      <td>H.</td>\n",
       "      <td>Tue</td>\n",
       "      <td>08h36</td>\n",
       "      <td>14m19</td>\n",
       "      <td>-1</td>\n",
       "      <td>8</td>\n",
       "      <td>36</td>\n",
       "      <td>14</td>\n",
       "      <td>19</td>\n",
       "      <td>-1</td>\n",
       "      <td>-1</td>\n",
       "    </tr>\n",
       "    <tr>\n",
       "      <th>2</th>\n",
       "      <td>U. Tue 15h05 14m14</td>\n",
       "      <td>4</td>\n",
       "      <td>U.</td>\n",
       "      <td>Tue</td>\n",
       "      <td>15h05</td>\n",
       "      <td>14m14</td>\n",
       "      <td>-1</td>\n",
       "      <td>15</td>\n",
       "      <td>5</td>\n",
       "      <td>14</td>\n",
       "      <td>14</td>\n",
       "      <td>-1</td>\n",
       "      <td>-1</td>\n",
       "    </tr>\n",
       "    <tr>\n",
       "      <th>3</th>\n",
       "      <td>H. Wed 06h41 14m48</td>\n",
       "      <td>4</td>\n",
       "      <td>H.</td>\n",
       "      <td>Wed</td>\n",
       "      <td>06h41</td>\n",
       "      <td>14m48</td>\n",
       "      <td>-1</td>\n",
       "      <td>6</td>\n",
       "      <td>41</td>\n",
       "      <td>14</td>\n",
       "      <td>48</td>\n",
       "      <td>-1</td>\n",
       "      <td>-1</td>\n",
       "    </tr>\n",
       "    <tr>\n",
       "      <th>4</th>\n",
       "      <td>U. Wed 10h12 13m04</td>\n",
       "      <td>4</td>\n",
       "      <td>U.</td>\n",
       "      <td>Wed</td>\n",
       "      <td>10h12</td>\n",
       "      <td>13m04</td>\n",
       "      <td>-1</td>\n",
       "      <td>10</td>\n",
       "      <td>12</td>\n",
       "      <td>13</td>\n",
       "      <td>4</td>\n",
       "      <td>-1</td>\n",
       "      <td>-1</td>\n",
       "    </tr>\n",
       "  </tbody>\n",
       "</table>\n",
       "</div>"
      ],
      "text/plain": [
       "             all_data  num_of_data Direction Day_of_week Departure Time_take  \\\n",
       "0  U. Mon 12h05 13m55            4        U.         Mon     12h05     13m55   \n",
       "1  H. Tue 08h36 14m19            4        H.         Tue     08h36     14m19   \n",
       "2  U. Tue 15h05 14m14            4        U.         Tue     15h05     14m14   \n",
       "3  H. Wed 06h41 14m48            4        H.         Wed     06h41     14m48   \n",
       "4  U. Wed 10h12 13m04            4        U.         Wed     10h12     13m04   \n",
       "\n",
       "  Arrival  Departure_hh  Departure_mm  Time_take_mm  Time_take_ss  Arrival_hh  \\\n",
       "0      -1            12             5            13            55          -1   \n",
       "1      -1             8            36            14            19          -1   \n",
       "2      -1            15             5            14            14          -1   \n",
       "3      -1             6            41            14            48          -1   \n",
       "4      -1            10            12            13             4          -1   \n",
       "\n",
       "   Arrival_mm  \n",
       "0          -1  \n",
       "1          -1  \n",
       "2          -1  \n",
       "3          -1  \n",
       "4          -1  "
      ]
     },
     "execution_count": 26,
     "metadata": {},
     "output_type": "execute_result"
    }
   ],
   "source": [
    "df2.head()"
   ]
  },
  {
   "cell_type": "code",
   "execution_count": 27,
   "metadata": {},
   "outputs": [],
   "source": [
    "df2 = df2.drop(['all_data','num_of_data','Departure','Time_take','Arrival'],axis=1)"
   ]
  },
  {
   "cell_type": "code",
   "execution_count": 28,
   "metadata": {},
   "outputs": [
    {
     "data": {
      "text/plain": [
       "(388, 8)"
      ]
     },
     "execution_count": 28,
     "metadata": {},
     "output_type": "execute_result"
    }
   ],
   "source": [
    "df2.shape"
   ]
  },
  {
   "cell_type": "code",
   "execution_count": 29,
   "metadata": {
    "scrolled": false
   },
   "outputs": [
    {
     "data": {
      "text/html": [
       "<div>\n",
       "<style scoped>\n",
       "    .dataframe tbody tr th:only-of-type {\n",
       "        vertical-align: middle;\n",
       "    }\n",
       "\n",
       "    .dataframe tbody tr th {\n",
       "        vertical-align: top;\n",
       "    }\n",
       "\n",
       "    .dataframe thead th {\n",
       "        text-align: right;\n",
       "    }\n",
       "</style>\n",
       "<table border=\"1\" class=\"dataframe\">\n",
       "  <thead>\n",
       "    <tr style=\"text-align: right;\">\n",
       "      <th></th>\n",
       "      <th>Direction</th>\n",
       "      <th>Day_of_week</th>\n",
       "      <th>Departure_hh</th>\n",
       "      <th>Departure_mm</th>\n",
       "      <th>Time_take_mm</th>\n",
       "      <th>Time_take_ss</th>\n",
       "      <th>Arrival_hh</th>\n",
       "      <th>Arrival_mm</th>\n",
       "    </tr>\n",
       "  </thead>\n",
       "  <tbody>\n",
       "    <tr>\n",
       "      <th>0</th>\n",
       "      <td>U.</td>\n",
       "      <td>Mon</td>\n",
       "      <td>12</td>\n",
       "      <td>5</td>\n",
       "      <td>13</td>\n",
       "      <td>55</td>\n",
       "      <td>-1</td>\n",
       "      <td>-1</td>\n",
       "    </tr>\n",
       "    <tr>\n",
       "      <th>1</th>\n",
       "      <td>H.</td>\n",
       "      <td>Tue</td>\n",
       "      <td>8</td>\n",
       "      <td>36</td>\n",
       "      <td>14</td>\n",
       "      <td>19</td>\n",
       "      <td>-1</td>\n",
       "      <td>-1</td>\n",
       "    </tr>\n",
       "    <tr>\n",
       "      <th>2</th>\n",
       "      <td>U.</td>\n",
       "      <td>Tue</td>\n",
       "      <td>15</td>\n",
       "      <td>5</td>\n",
       "      <td>14</td>\n",
       "      <td>14</td>\n",
       "      <td>-1</td>\n",
       "      <td>-1</td>\n",
       "    </tr>\n",
       "    <tr>\n",
       "      <th>3</th>\n",
       "      <td>H.</td>\n",
       "      <td>Wed</td>\n",
       "      <td>6</td>\n",
       "      <td>41</td>\n",
       "      <td>14</td>\n",
       "      <td>48</td>\n",
       "      <td>-1</td>\n",
       "      <td>-1</td>\n",
       "    </tr>\n",
       "    <tr>\n",
       "      <th>4</th>\n",
       "      <td>U.</td>\n",
       "      <td>Wed</td>\n",
       "      <td>10</td>\n",
       "      <td>12</td>\n",
       "      <td>13</td>\n",
       "      <td>4</td>\n",
       "      <td>-1</td>\n",
       "      <td>-1</td>\n",
       "    </tr>\n",
       "  </tbody>\n",
       "</table>\n",
       "</div>"
      ],
      "text/plain": [
       "  Direction Day_of_week  Departure_hh  Departure_mm  Time_take_mm  \\\n",
       "0        U.         Mon            12             5            13   \n",
       "1        H.         Tue             8            36            14   \n",
       "2        U.         Tue            15             5            14   \n",
       "3        H.         Wed             6            41            14   \n",
       "4        U.         Wed            10            12            13   \n",
       "\n",
       "   Time_take_ss  Arrival_hh  Arrival_mm  \n",
       "0            55          -1          -1  \n",
       "1            19          -1          -1  \n",
       "2            14          -1          -1  \n",
       "3            48          -1          -1  \n",
       "4             4          -1          -1  "
      ]
     },
     "execution_count": 29,
     "metadata": {},
     "output_type": "execute_result"
    }
   ],
   "source": [
    "df2.head()"
   ]
  },
  {
   "cell_type": "code",
   "execution_count": null,
   "metadata": {},
   "outputs": [],
   "source": []
  },
  {
   "cell_type": "code",
   "execution_count": 30,
   "metadata": {},
   "outputs": [],
   "source": [
    "# BASIC PROCESSING..................................................................................."
   ]
  },
  {
   "cell_type": "code",
   "execution_count": 31,
   "metadata": {},
   "outputs": [],
   "source": [
    "#calculate time_take by ss\n",
    "\n",
    "time_take_cal_mm = [] \n",
    "for idx in range(df2.shape[0]):\n",
    "    if df2.iloc[idx,2] != -1 and df2.iloc[idx,6] != -1 :\n",
    "        time_take = - df2.iloc[idx,2] * 60 - df2.iloc[idx,3] + df2.iloc[idx,6] * 60 + df2.iloc[idx,7]\n",
    "        time_take_cal_mm.append(time_take)\n",
    "    elif df2.iloc[idx,4] != -1:\n",
    "        time_take_cal_mm.append(df2.iloc[idx,4]  + df2.iloc[idx,5] * 1.0 / 60)\n",
    "    else:\n",
    "        time_take_cal_mm.append(-1)"
   ]
  },
  {
   "cell_type": "code",
   "execution_count": 32,
   "metadata": {},
   "outputs": [
    {
     "name": "stdout",
     "output_type": "stream",
     "text": [
      "388\n"
     ]
    }
   ],
   "source": [
    "print(len(time_take_cal_mm))"
   ]
  },
  {
   "cell_type": "code",
   "execution_count": 33,
   "metadata": {
    "scrolled": true
   },
   "outputs": [],
   "source": [
    "df2['Time_take_cal_mm'] = time_take_cal_mm"
   ]
  },
  {
   "cell_type": "code",
   "execution_count": 34,
   "metadata": {},
   "outputs": [],
   "source": [
    "df2['Direction'] = df2['Direction'].apply(lambda x: x[0])"
   ]
  },
  {
   "cell_type": "code",
   "execution_count": 35,
   "metadata": {},
   "outputs": [],
   "source": [
    "df2['Day_of_week'] = df2['Day_of_week'].apply(lambda x: x[:-1])"
   ]
  },
  {
   "cell_type": "code",
   "execution_count": 36,
   "metadata": {},
   "outputs": [
    {
     "data": {
      "text/plain": [
       "Thu    61\n",
       "Fri    59\n",
       "Wed    49\n",
       "Tue    48\n",
       "Mon    46\n",
       "Th     21\n",
       "We     20\n",
       "Fr     18\n",
       "Sat    18\n",
       "Mo     18\n",
       "Tu     17\n",
       "Sun     7\n",
       "Sa      3\n",
       "Su      3\n",
       "Name: Day_of_week, dtype: int64"
      ]
     },
     "execution_count": 36,
     "metadata": {},
     "output_type": "execute_result"
    }
   ],
   "source": [
    "df2['Day_of_week'].value_counts()"
   ]
  },
  {
   "cell_type": "code",
   "execution_count": 37,
   "metadata": {},
   "outputs": [],
   "source": [
    "#mapping date\n",
    "map_date = {'Th':'Thu','We':'Wed','Fr':'Fri','Mo':'Mon','Tu':'Tue','Sa':'Sat','Su':'Sun'}\n",
    "\n",
    "df2['Day_of_week'] = df2['Day_of_week'].apply(lambda x: map_date[x] if len(x) < 3 else x)"
   ]
  },
  {
   "cell_type": "code",
   "execution_count": 38,
   "metadata": {
    "scrolled": true
   },
   "outputs": [
    {
     "data": {
      "text/html": [
       "<div>\n",
       "<style scoped>\n",
       "    .dataframe tbody tr th:only-of-type {\n",
       "        vertical-align: middle;\n",
       "    }\n",
       "\n",
       "    .dataframe tbody tr th {\n",
       "        vertical-align: top;\n",
       "    }\n",
       "\n",
       "    .dataframe thead th {\n",
       "        text-align: right;\n",
       "    }\n",
       "</style>\n",
       "<table border=\"1\" class=\"dataframe\">\n",
       "  <thead>\n",
       "    <tr style=\"text-align: right;\">\n",
       "      <th></th>\n",
       "      <th>Direction</th>\n",
       "      <th>Day_of_week</th>\n",
       "      <th>Departure_hh</th>\n",
       "      <th>Departure_mm</th>\n",
       "      <th>Time_take_mm</th>\n",
       "      <th>Time_take_ss</th>\n",
       "      <th>Arrival_hh</th>\n",
       "      <th>Arrival_mm</th>\n",
       "      <th>Time_take_cal_mm</th>\n",
       "    </tr>\n",
       "  </thead>\n",
       "  <tbody>\n",
       "    <tr>\n",
       "      <th>0</th>\n",
       "      <td>U</td>\n",
       "      <td>Mon</td>\n",
       "      <td>12</td>\n",
       "      <td>5</td>\n",
       "      <td>13</td>\n",
       "      <td>55</td>\n",
       "      <td>-1</td>\n",
       "      <td>-1</td>\n",
       "      <td>13.916667</td>\n",
       "    </tr>\n",
       "    <tr>\n",
       "      <th>1</th>\n",
       "      <td>H</td>\n",
       "      <td>Tue</td>\n",
       "      <td>8</td>\n",
       "      <td>36</td>\n",
       "      <td>14</td>\n",
       "      <td>19</td>\n",
       "      <td>-1</td>\n",
       "      <td>-1</td>\n",
       "      <td>14.316667</td>\n",
       "    </tr>\n",
       "    <tr>\n",
       "      <th>2</th>\n",
       "      <td>U</td>\n",
       "      <td>Tue</td>\n",
       "      <td>15</td>\n",
       "      <td>5</td>\n",
       "      <td>14</td>\n",
       "      <td>14</td>\n",
       "      <td>-1</td>\n",
       "      <td>-1</td>\n",
       "      <td>14.233333</td>\n",
       "    </tr>\n",
       "    <tr>\n",
       "      <th>3</th>\n",
       "      <td>H</td>\n",
       "      <td>Wed</td>\n",
       "      <td>6</td>\n",
       "      <td>41</td>\n",
       "      <td>14</td>\n",
       "      <td>48</td>\n",
       "      <td>-1</td>\n",
       "      <td>-1</td>\n",
       "      <td>14.800000</td>\n",
       "    </tr>\n",
       "    <tr>\n",
       "      <th>4</th>\n",
       "      <td>U</td>\n",
       "      <td>Wed</td>\n",
       "      <td>10</td>\n",
       "      <td>12</td>\n",
       "      <td>13</td>\n",
       "      <td>4</td>\n",
       "      <td>-1</td>\n",
       "      <td>-1</td>\n",
       "      <td>13.066667</td>\n",
       "    </tr>\n",
       "  </tbody>\n",
       "</table>\n",
       "</div>"
      ],
      "text/plain": [
       "  Direction Day_of_week  Departure_hh  Departure_mm  Time_take_mm  \\\n",
       "0         U         Mon            12             5            13   \n",
       "1         H         Tue             8            36            14   \n",
       "2         U         Tue            15             5            14   \n",
       "3         H         Wed             6            41            14   \n",
       "4         U         Wed            10            12            13   \n",
       "\n",
       "   Time_take_ss  Arrival_hh  Arrival_mm  Time_take_cal_mm  \n",
       "0            55          -1          -1         13.916667  \n",
       "1            19          -1          -1         14.316667  \n",
       "2            14          -1          -1         14.233333  \n",
       "3            48          -1          -1         14.800000  \n",
       "4             4          -1          -1         13.066667  "
      ]
     },
     "execution_count": 38,
     "metadata": {},
     "output_type": "execute_result"
    }
   ],
   "source": [
    "df2.head()"
   ]
  },
  {
   "cell_type": "code",
   "execution_count": 39,
   "metadata": {},
   "outputs": [],
   "source": [
    "df_TimeTake =  df2[df2['Time_take_cal_mm'] > -1]"
   ]
  },
  {
   "cell_type": "code",
   "execution_count": 40,
   "metadata": {},
   "outputs": [
    {
     "data": {
      "text/plain": [
       "(222, 9)"
      ]
     },
     "execution_count": 40,
     "metadata": {},
     "output_type": "execute_result"
    }
   ],
   "source": [
    "df_TimeTake.shape"
   ]
  },
  {
   "cell_type": "code",
   "execution_count": 41,
   "metadata": {},
   "outputs": [
    {
     "data": {
      "image/png": "[encoded data removed]",
      "text/plain": [
       "<Figure size 576x360 with 1 Axes>"
      ]
     },
     "metadata": {},
     "output_type": "display_data"
    }
   ],
   "source": [
    "import seaborn as sns\n",
    "\n",
    "#plot time take by direction\n",
    "sns.set(rc={'figure.figsize':(8,5)})\n",
    "ax = sns.boxplot(x=\"Direction\", y=\"Time_take_cal_mm\", data=df_TimeTake)"
   ]
  },
  {
   "cell_type": "code",
   "execution_count": 42,
   "metadata": {},
   "outputs": [
    {
     "data": {
      "image/png": "[encoded data removed]",
      "text/plain": [
       "<Figure size 1080x576 with 1 Axes>"
      ]
     },
     "metadata": {},
     "output_type": "display_data"
    }
   ],
   "source": [
    "#plot time take by direction & day\n",
    "sns.set(rc={'figure.figsize':(15,8)})\n",
    "ax = sns.boxplot(x=\"Day_of_week\", y=\"Time_take_cal_mm\",hue=\"Direction\" , data=df_TimeTake)"
   ]
  },
  {
   "cell_type": "code",
   "execution_count": 43,
   "metadata": {},
   "outputs": [
    {
     "name": "stdout",
     "output_type": "stream",
     "text": [
      "Avereage time to University: 14.699 m\n"
     ]
    }
   ],
   "source": [
    "import numpy as np\n",
    "#time average from home to university\n",
    "avg_H2U = np.average(df_TimeTake[df_TimeTake['Direction']=='H']['Time_take_cal_mm'])\n",
    "print('Avereage time to University: {:.3f} m'.format(avg_H2U))"
   ]
  },
  {
   "cell_type": "code",
   "execution_count": 44,
   "metadata": {},
   "outputs": [
    {
     "data": {
      "text/plain": [
       "0"
      ]
     },
     "execution_count": 44,
     "metadata": {},
     "output_type": "execute_result"
    }
   ],
   "source": [
    "#check number of row do not have departure time\n",
    "sum(df_TimeTake['Departure_hh'] == -1)"
   ]
  },
  {
   "cell_type": "code",
   "execution_count": 45,
   "metadata": {},
   "outputs": [
    {
     "name": "stderr",
     "output_type": "stream",
     "text": [
      "/home/ubuntu/anaconda3/envs/giangdip/lib/python3.7/site-packages/ipykernel_launcher.py:2: SettingWithCopyWarning: \n",
      "A value is trying to be set on a copy of a slice from a DataFrame.\n",
      "Try using .loc[row_indexer,col_indexer] = value instead\n",
      "\n",
      "See the caveats in the documentation: https://pandas.pydata.org/pandas-docs/stable/user_guide/indexing.html#returning-a-view-versus-a-copy\n",
      "  \n"
     ]
    }
   ],
   "source": [
    "#time array by day\n",
    "df_TimeTake['Arrival_cal'] =  df_TimeTake['Departure_hh'] + df_TimeTake['Departure_mm'] * 1.0 / 60 + df_TimeTake['Time_take_cal_mm'] * 1.0/ 60"
   ]
  },
  {
   "cell_type": "code",
   "execution_count": 46,
   "metadata": {
    "scrolled": true
   },
   "outputs": [
    {
     "data": {
      "image/png": "[encoded data removed]",
      "text/plain": [
       "<Figure size 576x360 with 1 Axes>"
      ]
     },
     "metadata": {},
     "output_type": "display_data"
    }
   ],
   "source": [
    "#plot arraival time by date for all data\n",
    "sns.set(rc={'figure.figsize':(8,5)})\n",
    "ax = sns.boxplot(x=\"Day_of_week\", y=\"Arrival_cal\", data=df_TimeTake)"
   ]
  },
  {
   "cell_type": "code",
   "execution_count": 47,
   "metadata": {
    "scrolled": true
   },
   "outputs": [
    {
     "data": {
      "image/png": "[encoded data removed]",
      "text/plain": [
       "<Figure size 576x360 with 1 Axes>"
      ]
     },
     "metadata": {},
     "output_type": "display_data"
    }
   ],
   "source": [
    "#plot arraival time by date for data from home\n",
    "sns.set(rc={'figure.figsize':(8,5)})\n",
    "ax = sns.boxplot(x=\"Day_of_week\", y=\"Arrival_cal\", data=df_TimeTake[df_TimeTake['Direction']=='H'])\n",
    "##Student often be late on Tuseday and Thurseday"
   ]
  },
  {
   "cell_type": "code",
   "execution_count": 48,
   "metadata": {},
   "outputs": [
    {
     "data": {
      "text/plain": [
       "H    131\n",
       "U     91\n",
       "Name: Direction, dtype: int64"
      ]
     },
     "execution_count": 48,
     "metadata": {},
     "output_type": "execute_result"
    }
   ],
   "source": [
    "#count by direction\n",
    "df_TimeTake['Direction'].value_counts()"
   ]
  },
  {
   "cell_type": "code",
   "execution_count": 49,
   "metadata": {},
   "outputs": [
    {
     "data": {
      "text/plain": [
       "Wed    44\n",
       "Fri    42\n",
       "Thu    42\n",
       "Tue    41\n",
       "Mon    38\n",
       "Sat    12\n",
       "Sun     3\n",
       "Name: Day_of_week, dtype: int64"
      ]
     },
     "execution_count": 49,
     "metadata": {},
     "output_type": "execute_result"
    }
   ],
   "source": [
    "df_TimeTake['Day_of_week'].value_counts()"
   ]
  },
  {
   "cell_type": "code",
   "execution_count": 50,
   "metadata": {},
   "outputs": [],
   "source": [
    "#ASSUMPTION PROPOSING............................................................................................."
   ]
  },
  {
   "cell_type": "code",
   "execution_count": 51,
   "metadata": {},
   "outputs": [],
   "source": [
    "\"\"\"\n",
    "1) Time from Home to Univery is higher than time from Univery to Home\n",
    "2) Student arrival time soonest is Friday\n",
    "3) Less Student go to Univery in Monday\n",
    "4) Thurseday take longest time\n",
    "\n",
    "\"\"\"\n",
    "pass"
   ]
  },
  {
   "cell_type": "code",
   "execution_count": null,
   "metadata": {},
   "outputs": [],
   "source": []
  },
  {
   "cell_type": "code",
   "execution_count": 52,
   "metadata": {},
   "outputs": [],
   "source": [
    "#BUS DATA ANALYSIS"
   ]
  },
  {
   "cell_type": "code",
   "execution_count": 53,
   "metadata": {},
   "outputs": [],
   "source": [
    "\"\"\"\n",
    "(a) Yes, in the case accident happens or GOV ban some roads for specific event\n",
    "(b) No Data\n",
    "(c) No Data\n",
    "(d) No Data\n",
    "(e) No Dataa\n",
    "\"\"\"\n",
    "pass"
   ]
  },
  {
   "cell_type": "code",
   "execution_count": null,
   "metadata": {},
   "outputs": [],
   "source": []
  },
  {
   "cell_type": "code",
   "execution_count": null,
   "metadata": {},
   "outputs": [],
   "source": []
  }
 ],
 "metadata": {
  "kernelspec": {
   "display_name": "Python 3",
   "language": "python",
   "name": "python3"
  },
  "language_info": {
   "codemirror_mode": {
    "name": "ipython",
    "version": 3
   },
   "file_extension": ".py",
   "mimetype": "text/x-python",
   "name": "python",
   "nbconvert_exporter": "python",
   "pygments_lexer": "ipython3",
   "version": "3.7.7"
  }
 },
 "nbformat": 4,
 "nbformat_minor": 4
}
